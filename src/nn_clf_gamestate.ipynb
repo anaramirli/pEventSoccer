{
 "cells": [
  {
   "cell_type": "markdown",
   "metadata": {},
   "source": [
    "## 1. PURPOSE\n",
    "\n",
    "Our main aim is to build a model to determine whether a game stops or continues.\n",
    "\n",
    "Detailed info on features and their calculations can be found on classes.FeatureBuilder. Target data is derived from a player who owns the ball. So if some player has the ball then we labelled it as 'game-play', if no one has the ball then we labelled it as 'game-stop'. This approach has some disadvantages. During typical long passing when the ball changes its location, we don't have information of the ball locations. This will cause some biases on learning. "
   ]
  },
  {
   "cell_type": "code",
   "execution_count": 2,
   "metadata": {},
   "outputs": [],
   "source": [
    "import pandas as pd\n",
    "import numpy as np\n",
    "from keras.models import load_model\n",
    "from keras.utils import to_categorical\n",
    "from sklearn.utils import shuffle\n",
    "from sklearn.preprocessing import StandardScaler\n",
    "\n",
    "# nn trainer class\n",
    "from classes.NNBuilder import *\n",
    "# utility functions\n",
    "from classes.Utils import *"
   ]
  },
  {
   "cell_type": "markdown",
   "metadata": {},
   "source": [
    "#### Get data"
   ]
  },
  {
   "cell_type": "code",
   "execution_count": 2,
   "metadata": {},
   "outputs": [],
   "source": [
    "# get dataset\n",
    "try:\n",
    "    train_df = pd.read_csv('dataset/data_train.csv').dropna().reset_index(drop=True)\n",
    "except FileNotFoundError:\n",
    "    raise FileNotFoundError"
   ]
  },
  {
   "cell_type": "code",
   "execution_count": 3,
   "metadata": {},
   "outputs": [],
   "source": [
    "# get values\n",
    "X_train = train_df.iloc[:, 7:].values\n",
    "y_train = train_df['game_state'].values\n",
    "del train_df"
   ]
  },
  {
   "cell_type": "code",
   "execution_count": 4,
   "metadata": {},
   "outputs": [],
   "source": [
    "# shuffle data\n",
    "X_train, y_train = shuffle(X_train, y_train)"
   ]
  },
  {
   "cell_type": "code",
   "execution_count": 4,
   "metadata": {},
   "outputs": [],
   "source": [
    "# scale values \n",
    "scaler = StandardScaler().fit(X_train)\n",
    "X_train=scaler.transform(X_train)"
   ]
  },
  {
   "cell_type": "markdown",
   "metadata": {},
   "source": [
    "## 2. TRAIN & OPTIMIZING\n",
    "\n",
    "In this part training and parameters search for best nn structure will be conducted. Best parameters will be defined by comparing accuracy on validation set."
   ]
  },
  {
   "cell_type": "code",
   "execution_count": 119,
   "metadata": {},
   "outputs": [],
   "source": [
    "## NN STRUCTURES \n",
    "nn_structures = {\n",
    "    \n",
    "    \n",
    "# create the desired nn structur\n",
    "# in the next stage, we only assig value to parameters those have null value \n",
    "    \n",
    "                0:{'input': { 'layer': None, 'activation': None},\n",
    "                'dropout0': {'ratio': 0.2},\n",
    "                'hidden0':  { 'layer': None, 'activation': None},\n",
    "                'output':   { 'layer': 1, 'activation': None}},\n",
    "                    \n",
    "                1:{'input': { 'layer': None, 'activation': None},\n",
    "                'dropout0':  {'ratio': 0.2},\n",
    "                'hidden0':  { 'layer': None, 'activation': None},\n",
    "                'hidden1':  { 'layer': None, 'activation': None},\n",
    "                'output':   { 'layer': 1, 'activation': None}},\n",
    "                \n",
    "                2:{'input': { 'layer': None, 'activation': None},\n",
    "                'dropout0': {'ratio': 0.2},\n",
    "                'hidden0':  { 'layer': None, 'activation': None},\n",
    "                'hidden1':  { 'layer': None, 'activation': None},\n",
    "                'hidden2':  { 'layer': None, 'activation': None},\n",
    "                'output':   { 'layer': 1, 'activation': None}},\n",
    "    \n",
    "                3:{'input': { 'layer': None, 'activation': None},\n",
    "                'dropout0': {'ratio': 0.2},\n",
    "                'hidden0':  { 'layer': None, 'activation': None},\n",
    "                'hidden1':  { 'layer': None, 'activation': None},\n",
    "                'hidden2':  { 'layer': None, 'activation': None},\n",
    "                'hidden3':  { 'layer': None, 'activation': None},\n",
    "                'output':   { 'layer': 1, 'activation': None}}\n",
    "                \n",
    "                }"
   ]
  },
  {
   "cell_type": "code",
   "execution_count": 120,
   "metadata": {},
   "outputs": [],
   "source": [
    "# PARAMS GIRD\n",
    "param_grid = [\n",
    "    {      \n",
    "            'dense': [70, 130, 240],\n",
    "            'activation': ['sigmoid', 'relu'],\n",
    "            'optimizer': ['adam','Adadelta']\n",
    "    }\n",
    "]\n",
    "\n",
    "\n",
    "# CREATE ITERATIVE PARAM LIST\n",
    "para_label=['dense', 'activation', 'optimizer']\n",
    "\n",
    "# parameter list for storing all possible combinations\n",
    "param_list = []\n",
    "\n",
    "# create all possible parameters combinations for optimizations\n",
    "for n_dense in param_grid[0]['dense']:\n",
    "        for n_act in param_grid[0]['activation']:\n",
    "            for n_opt in param_grid[0]['optimizer']:\n",
    "                param_dict = dict(zip(para_label, [n_dense, n_act, n_opt]))\n",
    "                param_list.append(param_dict)"
   ]
  },
  {
   "cell_type": "markdown",
   "metadata": {},
   "source": [
    "### TRANING "
   ]
  },
  {
   "cell_type": "code",
   "execution_count": 126,
   "metadata": {},
   "outputs": [],
   "source": [
    "# select the model with best (last) validation accuracy on train data\n",
    "\n",
    "tmp_val_acc = 0\n",
    "best_model = None\n",
    "best_model_params = {}\n",
    "best_model_history = None\n",
    "\n",
    "# iterate through nn_strcuture\n",
    "nn_structures_loop = nn_structures\n",
    "\n",
    "for nn_key , nn_value in nn_structures_loop.items():\n",
    "    \n",
    "    # ----------------- GET PARAMETERS -----------------\n",
    "\n",
    "    # iterate through parameters   \n",
    "    for param_i,_ in enumerate(param_list):\n",
    "                \n",
    "        # get paramas\n",
    "        dense_p = param_list[param_i]['dense']\n",
    "        activation_p = param_list[param_i]['activation']\n",
    "        optimizer_p = param_list[param_i]['optimizer']\n",
    "        \n",
    "        # set current nn_structure\n",
    "        for nn_inner_key , nn_inner_value in nn_value.items():\n",
    "            try:\n",
    "                \n",
    "                if 'layer' in nn_inner_value and nn_inner_key!='output':\n",
    "                    nn_inner_value['layer']=dense_p\n",
    "                if 'activation' in nn_inner_value:\n",
    "                    nn_inner_value['activation']=activation_p\n",
    "                    \n",
    "            except KeyError:\n",
    "                pass\n",
    "\n",
    "        \n",
    "        # ----------------- TRAIN MODEL -----------------\n",
    "        \n",
    "        nnBuilder = NNBuilder(input_shape = X_train.shape[1]) # init nn builder\n",
    "\n",
    "        nnBuilder.init_model(nn_value) # init model\n",
    "        model=nnBuilder.get_model() # get model\n",
    "\n",
    "        # compile model parameters\n",
    "        model.compile(optimizer=optimizer_p, loss='binary_crossentropy', metrics=['accuracy'])\n",
    "\n",
    "        # train and get history\n",
    "        hist = model.fit(X_train, y_train, epochs=32, batch_size=32, validation_split=0.10, verbose=0)\n",
    "            \n",
    "        # set pest params\n",
    "        if hist.history['val_acc'][-1]>tmp_val_acc:\n",
    "            tmp_val_acc = hist.history['val_acc'][-1]\n",
    "            best_model_params = {'nn':nn_value, 'optimizer':optimizer_p}\n",
    "            best_model_history = hist\n",
    "            best_model = model\n",
    "        \n",
    "        # Deletes the existing model\n",
    "        del model\n",
    "        del nnBuilder\n",
    "        \n",
    "del X_train, y_train\n",
    "\n",
    "# save model\n",
    "best_model.save('models/{path}/{model}.h5'.format(path='nn', model=('game_state_clf')))\n",
    "del best_model"
   ]
  },
  {
   "cell_type": "markdown",
   "metadata": {},
   "source": [
    "## 3. RESULTS\n",
    "\n",
    "#### Result of gird search"
   ]
  },
  {
   "cell_type": "code",
   "execution_count": 122,
   "metadata": {},
   "outputs": [
    {
     "data": {
      "text/plain": [
       "{'nn': {'input': {'layer': 240, 'activation': 'relu'},\n",
       "  'dropout0': {'ratio': 0.2},\n",
       "  'hidden0': {'layer': 240, 'activation': 'relu'},\n",
       "  'hidden1': {'layer': 240, 'activation': 'relu'},\n",
       "  'output': {'layer': 1, 'activation': 'relu'}},\n",
       " 'optimizer': 'adam'}"
      ]
     },
     "execution_count": 122,
     "metadata": {},
     "output_type": "execute_result"
    }
   ],
   "source": [
    "# best nn strucutre\n",
    "best_model_params"
   ]
  },
  {
   "cell_type": "markdown",
   "metadata": {},
   "source": [
    "#### Train set"
   ]
  },
  {
   "cell_type": "code",
   "execution_count": 9,
   "metadata": {},
   "outputs": [
    {
     "name": "stdout",
     "output_type": "stream",
     "text": [
      "accuracy: 87.78\n",
      "loss: 30.45\n"
     ]
    }
   ],
   "source": [
    "print('accuracy: {}'.format(str(round(best_model_history.history['acc'][-1]*100, 2))))\n",
    "print('loss: {}'.format(str(round(best_model_history.history['loss'][-1]*100, 2))))"
   ]
  },
  {
   "cell_type": "markdown",
   "metadata": {},
   "source": [
    "#### Validation set"
   ]
  },
  {
   "cell_type": "code",
   "execution_count": 11,
   "metadata": {},
   "outputs": [
    {
     "name": "stdout",
     "output_type": "stream",
     "text": [
      "accuracy: 87.44\n",
      "loss: 31.76\n"
     ]
    }
   ],
   "source": [
    "print('accuracy: {}'.format(str(round(best_model_history.history['val_acc'][-1]*100, 2))))\n",
    "print('loss: {}'.format(str(round(best_model_history.history['val_loss'][-1]*100, 2))))"
   ]
  },
  {
   "cell_type": "markdown",
   "metadata": {},
   "source": [
    "#### Model History"
   ]
  },
  {
   "cell_type": "code",
   "execution_count": 127,
   "metadata": {},
   "outputs": [
    {
     "data": {
      "image/png": "[encoded data removed]",
      "text/plain": [
       "<Figure size 432x288 with 1 Axes>"
      ]
     },
     "metadata": {},
     "output_type": "display_data"
    },
    {
     "data": {
      "image/png": "[encoded data removed]",
      "text/plain": [
       "<Figure size 432x288 with 1 Axes>"
      ]
     },
     "metadata": {},
     "output_type": "display_data"
    },
    {
     "name": "stdout",
     "output_type": "stream",
     "text": [
      "{'input': {'layer': 240, 'activation': 'relu'}, 'dropout0': {'ratio': 0.2}, 'hidden0': {'layer': 240, 'activation': 'relu'}, 'hidden1': {'layer': 240, 'activation': 'relu'}, 'output': {'layer': 1, 'activation': 'relu'}}\n",
      "adam\n"
     ]
    }
   ],
   "source": [
    "# draw train histry\n",
    "plot_model_history(best_model_history, title='Model accuracy', val_label=['acc', 'val_acc'])\n",
    "plot_model_history(best_model_history, title='Model loss', val_label=['loss','val_loss'])\n",
    "\n",
    "# print best params\n",
    "for _, values in best_model_params.items():\n",
    "    print(values)"
   ]
  },
  {
   "cell_type": "markdown",
   "metadata": {},
   "source": [
    "### Result on the test set\n",
    "The results are examined on 31 unseen matches."
   ]
  },
  {
   "cell_type": "code",
   "execution_count": 13,
   "metadata": {},
   "outputs": [],
   "source": [
    "# get test dataset\n",
    "try:\n",
    "    test_df = pd.read_csv('dataset/data_test.csv').dropna().reset_index(drop=True)\n",
    "except FileNotFoundError:\n",
    "    raise FileNotFoundError"
   ]
  },
  {
   "cell_type": "code",
   "execution_count": 14,
   "metadata": {},
   "outputs": [],
   "source": [
    "# get values\n",
    "X_test = test_df.iloc[:, 7:].values\n",
    "y_test = test_df['game_state'].values\n",
    "del test_df"
   ]
  },
  {
   "cell_type": "code",
   "execution_count": 15,
   "metadata": {},
   "outputs": [],
   "source": [
    "# shuffle data\n",
    "X_test, y_test = shuffle(X_test, y_test)"
   ]
  },
  {
   "cell_type": "code",
   "execution_count": 16,
   "metadata": {},
   "outputs": [],
   "source": [
    "X_test = scaler.transform(X_test)"
   ]
  },
  {
   "cell_type": "code",
   "execution_count": 17,
   "metadata": {},
   "outputs": [
    {
     "name": "stdout",
     "output_type": "stream",
     "text": [
      "_________________________________________________________________\n",
      "Layer (type)                 Output Shape              Param #   \n",
      "=================================================================\n",
      "dense_81 (Dense)             (None, 240)               72000     \n",
      "_________________________________________________________________\n",
      "dropout_25 (Dropout)         (None, 240)               0         \n",
      "_________________________________________________________________\n",
      "dense_82 (Dense)             (None, 240)               57840     \n",
      "_________________________________________________________________\n",
      "dense_83 (Dense)             (None, 240)               57840     \n",
      "_________________________________________________________________\n",
      "dense_84 (Dense)             (None, 1)                 241       \n",
      "=================================================================\n",
      "Total params: 187,921\n",
      "Trainable params: 187,921\n",
      "Non-trainable params: 0\n",
      "_________________________________________________________________\n"
     ]
    }
   ],
   "source": [
    "# Load model\n",
    "model = load_model('models/nn/game_state_clf.h5')\n",
    "model.summary()"
   ]
  },
  {
   "cell_type": "code",
   "execution_count": 20,
   "metadata": {},
   "outputs": [
    {
     "name": "stdout",
     "output_type": "stream",
     "text": [
      "loss: 37.29%\n",
      "acc: 85.00%\n"
     ]
    }
   ],
   "source": [
    "score = model.evaluate(X_test, y_test, verbose=0)\n",
    "print(\"%s: %.2f%%\" % (model.metrics_names[0], score[0]*100))\n",
    "print(\"%s: %.2f%%\" % (model.metrics_names[1], score[1]*100))"
   ]
  },
  {
   "cell_type": "markdown",
   "metadata": {},
   "source": [
    "## Overall summary\n",
    "Although the convergence of model accuracy and loss on both training and validation sets show no sign of overfitting or underfitting, both training and validation sets have a high loss rate, with over 30%. Why is that?\n",
    "\n",
    "The main reason for this is the insufficiency of raw data. We can only dedicate target data if some player has the ball at the moment. So what happens when no one has the ball? Does the game continue, as it's in passing? During a pass, no player owns the ball. Therefore, we have no information on a significant amount of data frames when the ball passes from one player to another. This causes serious losses in our model, as our feature set is highly depended on speed derived elements. Normally, players' activities, especially their individual and group speeds, reach the minimum when the game stop. In short, game stop players stop too. However, during the ball passing in which we have no information on ball location, the game continues and the players are not in their minimum activity state. Thus, model fails to generalize these states. The solution to this problem is not covered in this project."
   ]
  }
 ],
 "metadata": {
  "kernelspec": {
   "display_name": "Python 3",
   "language": "python",
   "name": "python3"
  },
  "language_info": {
   "codemirror_mode": {
    "name": "ipython",
    "version": 3
   },
   "file_extension": ".py",
   "mimetype": "text/x-python",
   "name": "python",
   "nbconvert_exporter": "python",
   "pygments_lexer": "ipython3",
   "version": "3.7.4"
  }
 },
 "nbformat": 4,
 "nbformat_minor": 2
}
